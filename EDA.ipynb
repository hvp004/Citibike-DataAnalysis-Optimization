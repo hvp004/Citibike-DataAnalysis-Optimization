{
 "cells": [
  {
   "cell_type": "code",
   "execution_count": 1,
   "metadata": {
    "collapsed": true
   },
   "outputs": [],
   "source": [
    "import pandas as pd\n",
    "import numpy as np\n",
    "import matplotlib.pyplot as plt\n",
    "import seaborn as sns\n",
    "import datetime as dt\n",
    "pd.set_option('max_rows', 200)\n",
    "pd.set_option('max_columns', 200)\n",
    "sns.set_style('ticks')"
   ]
  },
  {
   "cell_type": "code",
   "execution_count": 2,
   "metadata": {
    "collapsed": true
   },
   "outputs": [],
   "source": [
    "def plot_ride_count(data, month, filename=\"file\", title=\"\"):\n",
    "    data = data.loc[data['month'] ==month]\n",
    "    weekend = data.loc[data['isWeekend'] == True]\n",
    "    weekday = data.loc[~data['isWeekend'] == True]\n",
    "    holiday = data.loc[data['isHoliday'] == True]\n",
    "    fig = plt.figure(figsize=(13,4))\n",
    "    ax1 = fig.add_subplot(111)\n",
    "    ax1.bar('day', 'count',data = weekend, label='Weekend' , color='coral')\n",
    "    ax1.bar('day', 'count',data = weekday, label='Week Day', color='royalblue')\n",
    "    if len(holiday)!=0:\n",
    "        ax1.bar('day', 'count',data = holiday, label='Public Holiday', color='chartreuse')\n",
    "    ax1.legend()\n",
    "    ax1.set_axisbelow(True)\n",
    "    ax1.set_xticks(data['day'])\n",
    "    ax1.grid()\n",
    "    plt.title(title)\n",
    "    if save:\n",
    "        plt.savefig(path+filename+\".jpg\")\n",
    "    \n",
    "    plt.show()"
   ]
  },
  {
   "cell_type": "markdown",
   "metadata": {},
   "source": [
    "#### Defining switches and control variables."
   ]
  },
  {
   "cell_type": "code",
   "execution_count": 3,
   "metadata": {
    "collapsed": true
   },
   "outputs": [],
   "source": [
    "data_load = True\n",
    "save = True\n",
    "export = True\n",
    "path = \"graphs/\""
   ]
  },
  {
   "cell_type": "markdown",
   "metadata": {},
   "source": [
    "#### Load Data"
   ]
  },
  {
   "cell_type": "code",
   "execution_count": 4,
   "metadata": {},
   "outputs": [
    {
     "name": "stdout",
     "output_type": "stream",
     "text": [
      "(727665, 15) (1735599, 15) (1897592, 15) (889967, 15)\n"
     ]
    }
   ],
   "source": [
    "if data_load:\n",
    "    data_march = pd.read_csv(\"201703/201703-citibike-tripdata.csv\")\n",
    "    data_july = pd.read_csv(\"201707/201707-citibike-tripdata.csv\")\n",
    "    data_oct = pd.read_csv(\"201710/201710-citibike-tripdata.csv\")\n",
    "    data_dec = pd.read_csv(\"201712/201712-citibike-tripdata.csv\")\n",
    "    data_march.columns=data_oct.columns\n",
    "    print(data_march.shape, data_july.shape, data_oct.shape, data_dec.shape)\n",
    "    data = pd.concat([data_march, data_july, data_oct, data_dec])"
   ]
  },
  {
   "cell_type": "markdown",
   "metadata": {},
   "source": [
    "#### Extracting Hour, Minute, Day, Weekday, Month and Year from the ride data. "
   ]
  },
  {
   "cell_type": "code",
   "execution_count": 5,
   "metadata": {
    "collapsed": true
   },
   "outputs": [],
   "source": [
    "data['hour'] = pd.to_datetime(data['starttime']).dt.hour\n",
    "data['min'] = pd.to_datetime(data['starttime']).dt.minute\n",
    "data['day'] = pd.to_datetime(data['starttime']).dt.day\n",
    "data['weekday'] = pd.to_datetime(data['starttime']).dt.weekday\n",
    "data['month'] = pd.to_datetime(data['starttime']).dt.month\n",
    "data['year'] = pd.to_datetime(data['starttime']).dt.year"
   ]
  },
  {
   "cell_type": "markdown",
   "metadata": {},
   "source": [
    "#### Getting daily total number of rides regarding usertype"
   ]
  },
  {
   "cell_type": "code",
   "execution_count": 6,
   "metadata": {
    "collapsed": true
   },
   "outputs": [],
   "source": [
    "ride_count = data.groupby(by=['day', 'usertype', 'weekday', 'month','year']).size().reset_index(name='count')"
   ]
  },
  {
   "cell_type": "markdown",
   "metadata": {},
   "source": [
    "##### We have 4 months with 31 days in month each. Across 2 usertyes, we should have  (31 x 4 x 2)=248 rows in this aggregation. We have only 242 data points. We must have missing data."
   ]
  },
  {
   "cell_type": "code",
   "execution_count": 7,
   "metadata": {
    "scrolled": false
   },
   "outputs": [
    {
     "name": "stdout",
     "output_type": "stream",
     "text": [
      "242\n"
     ]
    }
   ],
   "source": [
    "print(len(ride_count))"
   ]
  },
  {
   "cell_type": "markdown",
   "metadata": {},
   "source": [
    "##### We should have 62 rows, 31 for customer and 31 for subscriber.  We have missing data for 3 days. "
   ]
  },
  {
   "cell_type": "code",
   "execution_count": 8,
   "metadata": {},
   "outputs": [
    {
     "name": "stdout",
     "output_type": "stream",
     "text": [
      "56\n"
     ]
    }
   ],
   "source": [
    "print(len(ride_count.loc[ride_count['month']==3]))"
   ]
  },
  {
   "cell_type": "markdown",
   "metadata": {},
   "source": [
    "#### We have missing data for 14th, 15th and 16th March, 2017."
   ]
  },
  {
   "cell_type": "code",
   "execution_count": 9,
   "metadata": {},
   "outputs": [
    {
     "data": {
      "text/plain": [
       "array([ 1,  2,  3,  4,  5,  6,  7,  8,  9, 10, 11, 12, 13, 17, 18, 19, 20,\n",
       "       21, 22, 23, 24, 25, 26, 27, 28, 29, 30, 31], dtype=int64)"
      ]
     },
     "execution_count": 9,
     "metadata": {},
     "output_type": "execute_result"
    }
   ],
   "source": [
    "ride_count.loc[ride_count['month']==3]['day'].unique()"
   ]
  },
  {
   "cell_type": "markdown",
   "metadata": {},
   "source": [
    "#### Fill the missing data with 0 ride counts for these 3 days. "
   ]
  },
  {
   "cell_type": "code",
   "execution_count": 10,
   "metadata": {
    "collapsed": true
   },
   "outputs": [],
   "source": [
    "march_missing = pd.DataFrame({\n",
    "    'day': [14,14,15,15,16,16],\n",
    "    'usertype':['Customer', 'Subscriber'] * 3,\n",
    "    'weekday':[1,1,2,2,3,3],\n",
    "    'month':[3]*6,\n",
    "    'year':[2017]*6,\n",
    "    'count':[0]*6\n",
    "})"
   ]
  },
  {
   "cell_type": "code",
   "execution_count": 11,
   "metadata": {
    "collapsed": true
   },
   "outputs": [],
   "source": [
    "ride_count = pd.concat([ride_count,march_missing]).sort_values(by=['day', 'month', 'usertype']).reset_index(drop=True)"
   ]
  },
  {
   "cell_type": "code",
   "execution_count": 12,
   "metadata": {},
   "outputs": [
    {
     "name": "stdout",
     "output_type": "stream",
     "text": [
      "248\n"
     ]
    }
   ],
   "source": [
    "print(len(ride_count))"
   ]
  },
  {
   "cell_type": "markdown",
   "metadata": {},
   "source": [
    "#### Extracting a feature 'isWeekend' to denote if the given day is a weekend or not"
   ]
  },
  {
   "cell_type": "code",
   "execution_count": 13,
   "metadata": {
    "collapsed": true
   },
   "outputs": [],
   "source": [
    "ride_count['isWeekend'] = False\n",
    "ride_count.loc[ride_count['weekday'].isin([5,6]), 'isWeekend'] = True #weekday 5,6 denote saturday and sunday."
   ]
  },
  {
   "cell_type": "code",
   "execution_count": 14,
   "metadata": {},
   "outputs": [
    {
     "data": {
      "text/html": [
       "<div>\n",
       "<style>\n",
       "    .dataframe thead tr:only-child th {\n",
       "        text-align: right;\n",
       "    }\n",
       "\n",
       "    .dataframe thead th {\n",
       "        text-align: left;\n",
       "    }\n",
       "\n",
       "    .dataframe tbody tr th {\n",
       "        vertical-align: top;\n",
       "    }\n",
       "</style>\n",
       "<table border=\"1\" class=\"dataframe\">\n",
       "  <thead>\n",
       "    <tr style=\"text-align: right;\">\n",
       "      <th></th>\n",
       "      <th>count</th>\n",
       "      <th>day</th>\n",
       "      <th>month</th>\n",
       "      <th>usertype</th>\n",
       "      <th>weekday</th>\n",
       "      <th>year</th>\n",
       "      <th>isWeekend</th>\n",
       "    </tr>\n",
       "  </thead>\n",
       "  <tbody>\n",
       "    <tr>\n",
       "      <th>0</th>\n",
       "      <td>1027</td>\n",
       "      <td>1</td>\n",
       "      <td>3</td>\n",
       "      <td>Customer</td>\n",
       "      <td>2</td>\n",
       "      <td>2017</td>\n",
       "      <td>False</td>\n",
       "    </tr>\n",
       "    <tr>\n",
       "      <th>1</th>\n",
       "      <td>39374</td>\n",
       "      <td>1</td>\n",
       "      <td>3</td>\n",
       "      <td>Subscriber</td>\n",
       "      <td>2</td>\n",
       "      <td>2017</td>\n",
       "      <td>False</td>\n",
       "    </tr>\n",
       "    <tr>\n",
       "      <th>2</th>\n",
       "      <td>9344</td>\n",
       "      <td>1</td>\n",
       "      <td>7</td>\n",
       "      <td>Customer</td>\n",
       "      <td>5</td>\n",
       "      <td>2017</td>\n",
       "      <td>True</td>\n",
       "    </tr>\n",
       "    <tr>\n",
       "      <th>3</th>\n",
       "      <td>27393</td>\n",
       "      <td>1</td>\n",
       "      <td>7</td>\n",
       "      <td>Subscriber</td>\n",
       "      <td>5</td>\n",
       "      <td>2017</td>\n",
       "      <td>True</td>\n",
       "    </tr>\n",
       "    <tr>\n",
       "      <th>4</th>\n",
       "      <td>10477</td>\n",
       "      <td>1</td>\n",
       "      <td>10</td>\n",
       "      <td>Customer</td>\n",
       "      <td>6</td>\n",
       "      <td>2017</td>\n",
       "      <td>True</td>\n",
       "    </tr>\n",
       "    <tr>\n",
       "      <th>5</th>\n",
       "      <td>45028</td>\n",
       "      <td>1</td>\n",
       "      <td>10</td>\n",
       "      <td>Subscriber</td>\n",
       "      <td>6</td>\n",
       "      <td>2017</td>\n",
       "      <td>True</td>\n",
       "    </tr>\n",
       "    <tr>\n",
       "      <th>6</th>\n",
       "      <td>2181</td>\n",
       "      <td>1</td>\n",
       "      <td>12</td>\n",
       "      <td>Customer</td>\n",
       "      <td>4</td>\n",
       "      <td>2017</td>\n",
       "      <td>False</td>\n",
       "    </tr>\n",
       "    <tr>\n",
       "      <th>7</th>\n",
       "      <td>48527</td>\n",
       "      <td>1</td>\n",
       "      <td>12</td>\n",
       "      <td>Subscriber</td>\n",
       "      <td>4</td>\n",
       "      <td>2017</td>\n",
       "      <td>False</td>\n",
       "    </tr>\n",
       "    <tr>\n",
       "      <th>8</th>\n",
       "      <td>1006</td>\n",
       "      <td>2</td>\n",
       "      <td>3</td>\n",
       "      <td>Customer</td>\n",
       "      <td>3</td>\n",
       "      <td>2017</td>\n",
       "      <td>False</td>\n",
       "    </tr>\n",
       "    <tr>\n",
       "      <th>9</th>\n",
       "      <td>34511</td>\n",
       "      <td>2</td>\n",
       "      <td>3</td>\n",
       "      <td>Subscriber</td>\n",
       "      <td>3</td>\n",
       "      <td>2017</td>\n",
       "      <td>False</td>\n",
       "    </tr>\n",
       "  </tbody>\n",
       "</table>\n",
       "</div>"
      ],
      "text/plain": [
       "   count  day  month    usertype  weekday  year  isWeekend\n",
       "0   1027    1      3    Customer        2  2017      False\n",
       "1  39374    1      3  Subscriber        2  2017      False\n",
       "2   9344    1      7    Customer        5  2017       True\n",
       "3  27393    1      7  Subscriber        5  2017       True\n",
       "4  10477    1     10    Customer        6  2017       True\n",
       "5  45028    1     10  Subscriber        6  2017       True\n",
       "6   2181    1     12    Customer        4  2017      False\n",
       "7  48527    1     12  Subscriber        4  2017      False\n",
       "8   1006    2      3    Customer        3  2017      False\n",
       "9  34511    2      3  Subscriber        3  2017      False"
      ]
     },
     "metadata": {},
     "output_type": "display_data"
    }
   ],
   "source": [
    "display(ride_count.head(10))"
   ]
  },
  {
   "cell_type": "markdown",
   "metadata": {},
   "source": [
    "#### Defining public holidays."
   ]
  },
  {
   "cell_type": "code",
   "execution_count": 15,
   "metadata": {
    "collapsed": true
   },
   "outputs": [],
   "source": [
    "ride_count['isHoliday'] = False"
   ]
  },
  {
   "cell_type": "code",
   "execution_count": 16,
   "metadata": {
    "collapsed": true
   },
   "outputs": [],
   "source": [
    "public_holiday=pd.DataFrame({\n",
    "    'day': [4,9,25],\n",
    "    'month': [7,10,12]\n",
    "})"
   ]
  },
  {
   "cell_type": "code",
   "execution_count": 17,
   "metadata": {},
   "outputs": [
    {
     "data": {
      "text/html": [
       "<div>\n",
       "<style>\n",
       "    .dataframe thead tr:only-child th {\n",
       "        text-align: right;\n",
       "    }\n",
       "\n",
       "    .dataframe thead th {\n",
       "        text-align: left;\n",
       "    }\n",
       "\n",
       "    .dataframe tbody tr th {\n",
       "        vertical-align: top;\n",
       "    }\n",
       "</style>\n",
       "<table border=\"1\" class=\"dataframe\">\n",
       "  <thead>\n",
       "    <tr style=\"text-align: right;\">\n",
       "      <th></th>\n",
       "      <th>day</th>\n",
       "      <th>month</th>\n",
       "    </tr>\n",
       "  </thead>\n",
       "  <tbody>\n",
       "    <tr>\n",
       "      <th>0</th>\n",
       "      <td>4</td>\n",
       "      <td>7</td>\n",
       "    </tr>\n",
       "    <tr>\n",
       "      <th>1</th>\n",
       "      <td>9</td>\n",
       "      <td>10</td>\n",
       "    </tr>\n",
       "    <tr>\n",
       "      <th>2</th>\n",
       "      <td>25</td>\n",
       "      <td>12</td>\n",
       "    </tr>\n",
       "  </tbody>\n",
       "</table>\n",
       "</div>"
      ],
      "text/plain": [
       "   day  month\n",
       "0    4      7\n",
       "1    9     10\n",
       "2   25     12"
      ]
     },
     "execution_count": 17,
     "metadata": {},
     "output_type": "execute_result"
    }
   ],
   "source": [
    "public_holiday"
   ]
  },
  {
   "cell_type": "code",
   "execution_count": 18,
   "metadata": {
    "collapsed": true
   },
   "outputs": [],
   "source": [
    "mask = ride_count.reset_index().merge(public_holiday)['index']"
   ]
  },
  {
   "cell_type": "code",
   "execution_count": 19,
   "metadata": {
    "collapsed": true
   },
   "outputs": [],
   "source": [
    "ride_count.loc[mask, 'isHoliday'] = True"
   ]
  },
  {
   "cell_type": "markdown",
   "metadata": {},
   "source": [
    "### Plotting Subscribers & Customers for the month of July"
   ]
  },
  {
   "cell_type": "markdown",
   "metadata": {},
   "source": [
    "#### We can see that there are more number of Subscribers during weekdays than during weekends."
   ]
  },
  {
   "cell_type": "code",
   "execution_count": 20,
   "metadata": {},
   "outputs": [
    {
     "data": {
      "image/png": "[encoded data removed]",
      "text/plain": [
       "<matplotlib.figure.Figure at 0xbdd7e48>"
      ]
     },
     "metadata": {},
     "output_type": "display_data"
    }
   ],
   "source": [
    "title = \"Subscribers for Month of July\"\n",
    "plot_ride_count(ride_count.loc[ride_count['usertype'] == 'Subscriber'], month=7, filename = \"ride_count_july_sub\", title=title)"
   ]
  },
  {
   "cell_type": "markdown",
   "metadata": {},
   "source": [
    "#### We can see that there are more number of Customers during weekends than during weekdays. A complete reverse trend than one observed for Subscribers. 4th of July is a weekday but has a higher Customer riders because it is a national holiday. "
   ]
  },
  {
   "cell_type": "code",
   "execution_count": 21,
   "metadata": {},
   "outputs": [
    {
     "data": {
      "image/png": "[encoded data removed]",
      "text/plain": [
       "<matplotlib.figure.Figure at 0x4fc732b0>"
      ]
     },
     "metadata": {},
     "output_type": "display_data"
    }
   ],
   "source": [
    "title = \"Customers for Month of July\"\n",
    "plot_ride_count(ride_count.loc[ride_count['usertype'] == 'Customer'], month=7, filename = \"ride_count_july_cust\", title=title)"
   ]
  },
  {
   "cell_type": "markdown",
   "metadata": {},
   "source": [
    "### Plotting Subscribers and Customers for the month of December."
   ]
  },
  {
   "cell_type": "markdown",
   "metadata": {},
   "source": [
    "#### Similar trend in terms of weekdays and weekdays for the month of december. There are high number of Subscribers on weekdays than on weekends while there are hih number of Customers on weekends compared to weekdays. However, The number of riders for both the usertyes are lower as the month progresses. In particular the number of customer rides are significantly lower. "
   ]
  },
  {
   "cell_type": "code",
   "execution_count": 22,
   "metadata": {},
   "outputs": [
    {
     "data": {
      "image/png": "[encoded data removed]",
      "text/plain": [
       "<matplotlib.figure.Figure at 0x50237f28>"
      ]
     },
     "metadata": {},
     "output_type": "display_data"
    }
   ],
   "source": [
    "title=\"Ride Counts for Subscribers for the December\"\n",
    "plot_ride_count(ride_count.loc[ride_count['usertype'] == 'Subscriber'], month=12, filename=\"ride_count_dec_sub\", title=title)"
   ]
  },
  {
   "cell_type": "code",
   "execution_count": 23,
   "metadata": {},
   "outputs": [
    {
     "data": {
      "image/png": "[encoded data removed]",
      "text/plain": [
       "<matplotlib.figure.Figure at 0x502917b8>"
      ]
     },
     "metadata": {},
     "output_type": "display_data"
    }
   ],
   "source": [
    "title=\"Ride Counts for Customers for the December\"\n",
    "plot_ride_count(ride_count.loc[ride_count['usertype'] == 'Customer'], month=12, filename=\"ride_count_dec_cust\", title=title)"
   ]
  },
  {
   "cell_type": "markdown",
   "metadata": {},
   "source": [
    "### Plotting Subscribers and Customers for the month of March."
   ]
  },
  {
   "cell_type": "markdown",
   "metadata": {},
   "source": [
    "#### No ride counts across both the usertypes for 14th, 15th and 16th March."
   ]
  },
  {
   "cell_type": "code",
   "execution_count": 24,
   "metadata": {},
   "outputs": [
    {
     "data": {
      "image/png": "[encoded data removed]",
      "text/plain": [
       "<matplotlib.figure.Figure at 0x4fcbacf8>"
      ]
     },
     "metadata": {},
     "output_type": "display_data"
    }
   ],
   "source": [
    "title=\"Ride Counts for Subscribers for the March\"\n",
    "plot_ride_count(ride_count.loc[ride_count['usertype'] == 'Subscriber'], month=3, filename=\"ride_count_mar_sub\", title=title)"
   ]
  },
  {
   "cell_type": "code",
   "execution_count": 25,
   "metadata": {},
   "outputs": [
    {
     "data": {
      "image/png": "[encoded data removed]",
      "text/plain": [
       "<matplotlib.figure.Figure at 0x50370470>"
      ]
     },
     "metadata": {},
     "output_type": "display_data"
    }
   ],
   "source": [
    "title=\"Ride Counts for Customers for the March\"\n",
    "plot_ride_count(ride_count.loc[ride_count['usertype'] == 'Customer'], month=3, filename=\"ride_count_mar_cust\", title=title)"
   ]
  },
  {
   "cell_type": "markdown",
   "metadata": {},
   "source": [
    "### Plotting Subscribers and Customers for the month of October."
   ]
  },
  {
   "cell_type": "code",
   "execution_count": 26,
   "metadata": {},
   "outputs": [
    {
     "data": {
      "image/png": "[encoded data removed]",
      "text/plain": [
       "<matplotlib.figure.Figure at 0x503e8550>"
      ]
     },
     "metadata": {},
     "output_type": "display_data"
    }
   ],
   "source": [
    "title = \"Ride Counts for Subscriber for the month of October\"\n",
    "plot_ride_count(ride_count.loc[ride_count['usertype'] == 'Subscriber'], month=10, filename=\"ride_count_oct_cust\", title=title)"
   ]
  },
  {
   "cell_type": "code",
   "execution_count": 27,
   "metadata": {},
   "outputs": [
    {
     "data": {
      "image/png": "[encoded data removed]",
      "text/plain": [
       "<matplotlib.figure.Figure at 0x5063dc88>"
      ]
     },
     "metadata": {},
     "output_type": "display_data"
    }
   ],
   "source": [
    "title = \"Ride Counts for Customer for the month of October\"\n",
    "plot_ride_count(ride_count.loc[ride_count['usertype'] == 'Customer'], month=10, filename=\"ride_count_oct_sub\", title=title)"
   ]
  },
  {
   "cell_type": "code",
   "execution_count": 28,
   "metadata": {},
   "outputs": [
    {
     "data": {
      "image/png": "[encoded data removed]",
      "text/plain": [
       "<matplotlib.figure.Figure at 0x5063dac8>"
      ]
     },
     "metadata": {},
     "output_type": "display_data"
    }
   ],
   "source": [
    "plot_ride_count(ride_count, month=10, filename=\"ride_count_oct_sub\", title=title)"
   ]
  },
  {
   "cell_type": "markdown",
   "metadata": {},
   "source": [
    "### Rush Hours"
   ]
  },
  {
   "cell_type": "code",
   "execution_count": 29,
   "metadata": {
    "collapsed": true
   },
   "outputs": [],
   "source": [
    "rush_hour = data.groupby(by=['hour', 'usertype']).size().reset_index(name='count')"
   ]
  },
  {
   "cell_type": "markdown",
   "metadata": {},
   "source": [
    "#### There are two peak hours. 8-9 AM in the morning and 5-6 PM in the evening for Subscribers."
   ]
  },
  {
   "cell_type": "code",
   "execution_count": 30,
   "metadata": {},
   "outputs": [
    {
     "data": {
      "image/png": "[encoded data removed]",
      "text/plain": [
       "<matplotlib.figure.Figure at 0x507e8780>"
      ]
     },
     "metadata": {},
     "output_type": "display_data"
    }
   ],
   "source": [
    "fig = plt.figure(figsize=(13,5))\n",
    "ax = fig.add_subplot(111)\n",
    "ax.bar('hour', 'count', data=rush_hour.loc[rush_hour['usertype'] == 'Subscriber'], color='orangered', label='Subscriber Count')\n",
    "ax.set_xticks(rush_hour[rush_hour['usertype'] == 'Subscriber']['hour'])\n",
    "ax.grid()\n",
    "ax.legend()\n",
    "if save:\n",
    "    plt.savefig(path+\"rush_hour_sub.jpg\")\n",
    "plt.show()"
   ]
  },
  {
   "cell_type": "markdown",
   "metadata": {},
   "source": [
    "#### Most of the Customer rides are noticed around 10 AM to 7 PM."
   ]
  },
  {
   "cell_type": "code",
   "execution_count": 31,
   "metadata": {},
   "outputs": [
    {
     "data": {
      "image/png": "[encoded data removed]",
      "text/plain": [
       "<matplotlib.figure.Figure at 0x5071e9b0>"
      ]
     },
     "metadata": {},
     "output_type": "display_data"
    }
   ],
   "source": [
    "fig = plt.figure(figsize=(13,5))\n",
    "ax = fig.add_subplot(111)\n",
    "ax.bar('hour', 'count', data=rush_hour.loc[rush_hour['usertype'] == 'Customer'], color='dodgerblue', label='Subscriber Count')\n",
    "ax.set_xticks(rush_hour[rush_hour['usertype'] == 'Customer']['hour'])\n",
    "ax.grid()\n",
    "ax.legend()\n",
    "if save:\n",
    "    plt.savefig(path+\"rush_hour_cust.jpg\")\n",
    "plt.show()"
   ]
  },
  {
   "cell_type": "markdown",
   "metadata": {},
   "source": [
    "### Station Analysis"
   ]
  },
  {
   "cell_type": "markdown",
   "metadata": {},
   "source": [
    "#### Rides that have distinctive stations may yeild information about popular paths in the city."
   ]
  },
  {
   "cell_type": "code",
   "execution_count": 32,
   "metadata": {
    "collapsed": true
   },
   "outputs": [],
   "source": [
    "data_station = data.loc[data['start station id'] != data['end station id']]\n",
    "customer_stations = data_station.loc[data_station['usertype'] == 'Customer']\n",
    "subscriber_stations = data_station.loc[data_station['usertype'] == 'Subscriber']"
   ]
  },
  {
   "cell_type": "markdown",
   "metadata": {},
   "source": [
    "#### Popular stations amongst Customers. Seems like the stations around Central Park. "
   ]
  },
  {
   "cell_type": "code",
   "execution_count": 33,
   "metadata": {},
   "outputs": [
    {
     "data": {
      "text/html": [
       "<div>\n",
       "<style>\n",
       "    .dataframe thead tr:only-child th {\n",
       "        text-align: right;\n",
       "    }\n",
       "\n",
       "    .dataframe thead th {\n",
       "        text-align: left;\n",
       "    }\n",
       "\n",
       "    .dataframe tbody tr th {\n",
       "        vertical-align: top;\n",
       "    }\n",
       "</style>\n",
       "<table border=\"1\" class=\"dataframe\">\n",
       "  <thead>\n",
       "    <tr style=\"text-align: right;\">\n",
       "      <th></th>\n",
       "      <th>start station id</th>\n",
       "      <th>start station name</th>\n",
       "      <th>start station longitude</th>\n",
       "      <th>start station latitude</th>\n",
       "      <th>end station id</th>\n",
       "      <th>end station name</th>\n",
       "      <th>end station longitude</th>\n",
       "      <th>end station latitude</th>\n",
       "      <th>month</th>\n",
       "      <th>count</th>\n",
       "    </tr>\n",
       "  </thead>\n",
       "  <tbody>\n",
       "    <tr>\n",
       "      <th>85658</th>\n",
       "      <td>2006</td>\n",
       "      <td>Central Park S &amp; 6 Ave</td>\n",
       "      <td>-73.976342</td>\n",
       "      <td>40.765909</td>\n",
       "      <td>3282</td>\n",
       "      <td>5 Ave &amp; E 88 St</td>\n",
       "      <td>-73.959390</td>\n",
       "      <td>40.783070</td>\n",
       "      <td>7</td>\n",
       "      <td>788</td>\n",
       "    </tr>\n",
       "    <tr>\n",
       "      <th>85659</th>\n",
       "      <td>2006</td>\n",
       "      <td>Central Park S &amp; 6 Ave</td>\n",
       "      <td>-73.976342</td>\n",
       "      <td>40.765909</td>\n",
       "      <td>3282</td>\n",
       "      <td>5 Ave &amp; E 88 St</td>\n",
       "      <td>-73.959390</td>\n",
       "      <td>40.783070</td>\n",
       "      <td>10</td>\n",
       "      <td>674</td>\n",
       "    </tr>\n",
       "    <tr>\n",
       "      <th>108905</th>\n",
       "      <td>3182</td>\n",
       "      <td>Yankee Ferry Terminal</td>\n",
       "      <td>-74.016966</td>\n",
       "      <td>40.686931</td>\n",
       "      <td>3254</td>\n",
       "      <td>Soissons Landing</td>\n",
       "      <td>-74.014866</td>\n",
       "      <td>40.692317</td>\n",
       "      <td>7</td>\n",
       "      <td>655</td>\n",
       "    </tr>\n",
       "    <tr>\n",
       "      <th>112290</th>\n",
       "      <td>3254</td>\n",
       "      <td>Soissons Landing</td>\n",
       "      <td>-74.014866</td>\n",
       "      <td>40.692317</td>\n",
       "      <td>3182</td>\n",
       "      <td>Yankee Ferry Terminal</td>\n",
       "      <td>-74.016966</td>\n",
       "      <td>40.686931</td>\n",
       "      <td>7</td>\n",
       "      <td>615</td>\n",
       "    </tr>\n",
       "    <tr>\n",
       "      <th>85752</th>\n",
       "      <td>2006</td>\n",
       "      <td>Central Park S &amp; 6 Ave</td>\n",
       "      <td>-73.976342</td>\n",
       "      <td>40.765909</td>\n",
       "      <td>3374</td>\n",
       "      <td>Central Park North &amp; Adam Clayton Powell Blvd</td>\n",
       "      <td>-73.955613</td>\n",
       "      <td>40.799484</td>\n",
       "      <td>7</td>\n",
       "      <td>488</td>\n",
       "    </tr>\n",
       "    <tr>\n",
       "      <th>17591</th>\n",
       "      <td>281</td>\n",
       "      <td>Grand Army Plaza &amp; Central Park S</td>\n",
       "      <td>-73.973715</td>\n",
       "      <td>40.764397</td>\n",
       "      <td>3282</td>\n",
       "      <td>5 Ave &amp; E 88 St</td>\n",
       "      <td>-73.959390</td>\n",
       "      <td>40.783070</td>\n",
       "      <td>7</td>\n",
       "      <td>480</td>\n",
       "    </tr>\n",
       "    <tr>\n",
       "      <th>74749</th>\n",
       "      <td>514</td>\n",
       "      <td>12 Ave &amp; W 40 St</td>\n",
       "      <td>-74.002777</td>\n",
       "      <td>40.760875</td>\n",
       "      <td>426</td>\n",
       "      <td>West St &amp; Chambers St</td>\n",
       "      <td>-74.013221</td>\n",
       "      <td>40.717548</td>\n",
       "      <td>7</td>\n",
       "      <td>470</td>\n",
       "    </tr>\n",
       "    <tr>\n",
       "      <th>40132</th>\n",
       "      <td>387</td>\n",
       "      <td>Centre St &amp; Chambers St</td>\n",
       "      <td>-74.004607</td>\n",
       "      <td>40.712733</td>\n",
       "      <td>232</td>\n",
       "      <td>Cadman Plaza E &amp; Tillary St</td>\n",
       "      <td>-73.990149</td>\n",
       "      <td>40.695977</td>\n",
       "      <td>7</td>\n",
       "      <td>462</td>\n",
       "    </tr>\n",
       "    <tr>\n",
       "      <th>75052</th>\n",
       "      <td>514</td>\n",
       "      <td>12 Ave &amp; W 40 St</td>\n",
       "      <td>-74.002777</td>\n",
       "      <td>40.760875</td>\n",
       "      <td>3256</td>\n",
       "      <td>Pier 40 - Hudson River Park</td>\n",
       "      <td>-74.011296</td>\n",
       "      <td>40.727714</td>\n",
       "      <td>7</td>\n",
       "      <td>458</td>\n",
       "    </tr>\n",
       "    <tr>\n",
       "      <th>85514</th>\n",
       "      <td>2006</td>\n",
       "      <td>Central Park S &amp; 6 Ave</td>\n",
       "      <td>-73.976342</td>\n",
       "      <td>40.765909</td>\n",
       "      <td>3137</td>\n",
       "      <td>5 Ave &amp; E 73 St</td>\n",
       "      <td>-73.966853</td>\n",
       "      <td>40.772828</td>\n",
       "      <td>7</td>\n",
       "      <td>432</td>\n",
       "    </tr>\n",
       "  </tbody>\n",
       "</table>\n",
       "</div>"
      ],
      "text/plain": [
       "        start station id                 start station name  \\\n",
       "85658               2006             Central Park S & 6 Ave   \n",
       "85659               2006             Central Park S & 6 Ave   \n",
       "108905              3182              Yankee Ferry Terminal   \n",
       "112290              3254                   Soissons Landing   \n",
       "85752               2006             Central Park S & 6 Ave   \n",
       "17591                281  Grand Army Plaza & Central Park S   \n",
       "74749                514                   12 Ave & W 40 St   \n",
       "40132                387            Centre St & Chambers St   \n",
       "75052                514                   12 Ave & W 40 St   \n",
       "85514               2006             Central Park S & 6 Ave   \n",
       "\n",
       "        start station longitude  start station latitude  end station id  \\\n",
       "85658                -73.976342               40.765909            3282   \n",
       "85659                -73.976342               40.765909            3282   \n",
       "108905               -74.016966               40.686931            3254   \n",
       "112290               -74.014866               40.692317            3182   \n",
       "85752                -73.976342               40.765909            3374   \n",
       "17591                -73.973715               40.764397            3282   \n",
       "74749                -74.002777               40.760875             426   \n",
       "40132                -74.004607               40.712733             232   \n",
       "75052                -74.002777               40.760875            3256   \n",
       "85514                -73.976342               40.765909            3137   \n",
       "\n",
       "                                     end station name  end station longitude  \\\n",
       "85658                                 5 Ave & E 88 St             -73.959390   \n",
       "85659                                 5 Ave & E 88 St             -73.959390   \n",
       "108905                               Soissons Landing             -74.014866   \n",
       "112290                          Yankee Ferry Terminal             -74.016966   \n",
       "85752   Central Park North & Adam Clayton Powell Blvd             -73.955613   \n",
       "17591                                 5 Ave & E 88 St             -73.959390   \n",
       "74749                           West St & Chambers St             -74.013221   \n",
       "40132                     Cadman Plaza E & Tillary St             -73.990149   \n",
       "75052                     Pier 40 - Hudson River Park             -74.011296   \n",
       "85514                                 5 Ave & E 73 St             -73.966853   \n",
       "\n",
       "        end station latitude  month  count  \n",
       "85658              40.783070      7    788  \n",
       "85659              40.783070     10    674  \n",
       "108905             40.692317      7    655  \n",
       "112290             40.686931      7    615  \n",
       "85752              40.799484      7    488  \n",
       "17591              40.783070      7    480  \n",
       "74749              40.717548      7    470  \n",
       "40132              40.695977      7    462  \n",
       "75052              40.727714      7    458  \n",
       "85514              40.772828      7    432  "
      ]
     },
     "metadata": {},
     "output_type": "display_data"
    }
   ],
   "source": [
    "ride_path_count_cust = customer_stations.groupby(by=['start station id','start station name','start station longitude','start station latitude','end station id','end station name','end station longitude','end station latitude', 'month']).size().reset_index(name='count').sort_values(by=['count'], ascending=False)\n",
    "display(ride_path_count_cust.head(10))"
   ]
  },
  {
   "cell_type": "markdown",
   "metadata": {},
   "source": [
    "#### Popular stations amongst Customers. We can see that among top 10, E 7 St & Avenue A, Cooper Square & Astor Pl, Pershing Square North are popular stations."
   ]
  },
  {
   "cell_type": "code",
   "execution_count": 34,
   "metadata": {},
   "outputs": [
    {
     "data": {
      "text/html": [
       "<div>\n",
       "<style>\n",
       "    .dataframe thead tr:only-child th {\n",
       "        text-align: right;\n",
       "    }\n",
       "\n",
       "    .dataframe thead th {\n",
       "        text-align: left;\n",
       "    }\n",
       "\n",
       "    .dataframe tbody tr th {\n",
       "        vertical-align: top;\n",
       "    }\n",
       "</style>\n",
       "<table border=\"1\" class=\"dataframe\">\n",
       "  <thead>\n",
       "    <tr style=\"text-align: right;\">\n",
       "      <th></th>\n",
       "      <th>start station id</th>\n",
       "      <th>start station name</th>\n",
       "      <th>start station longitude</th>\n",
       "      <th>start station latitude</th>\n",
       "      <th>end station id</th>\n",
       "      <th>end station name</th>\n",
       "      <th>end station longitude</th>\n",
       "      <th>end station latitude</th>\n",
       "      <th>month</th>\n",
       "      <th>count</th>\n",
       "    </tr>\n",
       "  </thead>\n",
       "  <tbody>\n",
       "    <tr>\n",
       "      <th>181889</th>\n",
       "      <td>432</td>\n",
       "      <td>E 7 St &amp; Avenue A</td>\n",
       "      <td>-73.983799</td>\n",
       "      <td>40.726218</td>\n",
       "      <td>3263</td>\n",
       "      <td>Cooper Square &amp; Astor Pl</td>\n",
       "      <td>-73.990753</td>\n",
       "      <td>40.729515</td>\n",
       "      <td>10</td>\n",
       "      <td>802</td>\n",
       "    </tr>\n",
       "    <tr>\n",
       "      <th>181892</th>\n",
       "      <td>432</td>\n",
       "      <td>E 7 St &amp; Avenue A</td>\n",
       "      <td>-73.983799</td>\n",
       "      <td>40.726218</td>\n",
       "      <td>3263</td>\n",
       "      <td>Cooper Square &amp; E 7 St</td>\n",
       "      <td>-73.990868</td>\n",
       "      <td>40.729236</td>\n",
       "      <td>7</td>\n",
       "      <td>732</td>\n",
       "    </tr>\n",
       "    <tr>\n",
       "      <th>181890</th>\n",
       "      <td>432</td>\n",
       "      <td>E 7 St &amp; Avenue A</td>\n",
       "      <td>-73.983799</td>\n",
       "      <td>40.726218</td>\n",
       "      <td>3263</td>\n",
       "      <td>Cooper Square &amp; Astor Pl</td>\n",
       "      <td>-73.990753</td>\n",
       "      <td>40.729515</td>\n",
       "      <td>12</td>\n",
       "      <td>569</td>\n",
       "    </tr>\n",
       "    <tr>\n",
       "      <th>210570</th>\n",
       "      <td>460</td>\n",
       "      <td>S 4 St &amp; Wythe Ave</td>\n",
       "      <td>-73.965903</td>\n",
       "      <td>40.712859</td>\n",
       "      <td>3093</td>\n",
       "      <td>N 6 St &amp; Bedford Ave</td>\n",
       "      <td>-73.958509</td>\n",
       "      <td>40.717452</td>\n",
       "      <td>10</td>\n",
       "      <td>535</td>\n",
       "    </tr>\n",
       "    <tr>\n",
       "      <th>401034</th>\n",
       "      <td>3254</td>\n",
       "      <td>Soissons Landing</td>\n",
       "      <td>-74.014866</td>\n",
       "      <td>40.692317</td>\n",
       "      <td>3182</td>\n",
       "      <td>Yankee Ferry Terminal</td>\n",
       "      <td>-74.016966</td>\n",
       "      <td>40.686931</td>\n",
       "      <td>7</td>\n",
       "      <td>528</td>\n",
       "    </tr>\n",
       "    <tr>\n",
       "      <th>270044</th>\n",
       "      <td>519</td>\n",
       "      <td>Pershing Square North</td>\n",
       "      <td>-73.977706</td>\n",
       "      <td>40.751873</td>\n",
       "      <td>492</td>\n",
       "      <td>W 33 St &amp; 7 Ave</td>\n",
       "      <td>-73.990931</td>\n",
       "      <td>40.750200</td>\n",
       "      <td>3</td>\n",
       "      <td>519</td>\n",
       "    </tr>\n",
       "    <tr>\n",
       "      <th>270042</th>\n",
       "      <td>519</td>\n",
       "      <td>Pershing Square North</td>\n",
       "      <td>-73.977706</td>\n",
       "      <td>40.751873</td>\n",
       "      <td>491</td>\n",
       "      <td>E 24 St &amp; Park Ave S</td>\n",
       "      <td>-73.986022</td>\n",
       "      <td>40.740964</td>\n",
       "      <td>10</td>\n",
       "      <td>506</td>\n",
       "    </tr>\n",
       "    <tr>\n",
       "      <th>445021</th>\n",
       "      <td>3351</td>\n",
       "      <td>E 102 St &amp; 1 Ave</td>\n",
       "      <td>-73.941648</td>\n",
       "      <td>40.786995</td>\n",
       "      <td>3318</td>\n",
       "      <td>2 Ave &amp; E 96 St</td>\n",
       "      <td>-73.947167</td>\n",
       "      <td>40.783964</td>\n",
       "      <td>7</td>\n",
       "      <td>494</td>\n",
       "    </tr>\n",
       "    <tr>\n",
       "      <th>387511</th>\n",
       "      <td>3182</td>\n",
       "      <td>Yankee Ferry Terminal</td>\n",
       "      <td>-74.016966</td>\n",
       "      <td>40.686931</td>\n",
       "      <td>3254</td>\n",
       "      <td>Soissons Landing</td>\n",
       "      <td>-74.014866</td>\n",
       "      <td>40.692317</td>\n",
       "      <td>7</td>\n",
       "      <td>484</td>\n",
       "    </tr>\n",
       "    <tr>\n",
       "      <th>407313</th>\n",
       "      <td>3263</td>\n",
       "      <td>Cooper Square &amp; Astor Pl</td>\n",
       "      <td>-73.990753</td>\n",
       "      <td>40.729515</td>\n",
       "      <td>432</td>\n",
       "      <td>E 7 St &amp; Avenue A</td>\n",
       "      <td>-73.983799</td>\n",
       "      <td>40.726218</td>\n",
       "      <td>10</td>\n",
       "      <td>475</td>\n",
       "    </tr>\n",
       "  </tbody>\n",
       "</table>\n",
       "</div>"
      ],
      "text/plain": [
       "        start station id        start station name  start station longitude  \\\n",
       "181889               432         E 7 St & Avenue A               -73.983799   \n",
       "181892               432         E 7 St & Avenue A               -73.983799   \n",
       "181890               432         E 7 St & Avenue A               -73.983799   \n",
       "210570               460        S 4 St & Wythe Ave               -73.965903   \n",
       "401034              3254          Soissons Landing               -74.014866   \n",
       "270044               519     Pershing Square North               -73.977706   \n",
       "270042               519     Pershing Square North               -73.977706   \n",
       "445021              3351          E 102 St & 1 Ave               -73.941648   \n",
       "387511              3182     Yankee Ferry Terminal               -74.016966   \n",
       "407313              3263  Cooper Square & Astor Pl               -73.990753   \n",
       "\n",
       "        start station latitude  end station id          end station name  \\\n",
       "181889               40.726218            3263  Cooper Square & Astor Pl   \n",
       "181892               40.726218            3263    Cooper Square & E 7 St   \n",
       "181890               40.726218            3263  Cooper Square & Astor Pl   \n",
       "210570               40.712859            3093      N 6 St & Bedford Ave   \n",
       "401034               40.692317            3182     Yankee Ferry Terminal   \n",
       "270044               40.751873             492           W 33 St & 7 Ave   \n",
       "270042               40.751873             491      E 24 St & Park Ave S   \n",
       "445021               40.786995            3318           2 Ave & E 96 St   \n",
       "387511               40.686931            3254          Soissons Landing   \n",
       "407313               40.729515             432         E 7 St & Avenue A   \n",
       "\n",
       "        end station longitude  end station latitude  month  count  \n",
       "181889             -73.990753             40.729515     10    802  \n",
       "181892             -73.990868             40.729236      7    732  \n",
       "181890             -73.990753             40.729515     12    569  \n",
       "210570             -73.958509             40.717452     10    535  \n",
       "401034             -74.016966             40.686931      7    528  \n",
       "270044             -73.990931             40.750200      3    519  \n",
       "270042             -73.986022             40.740964     10    506  \n",
       "445021             -73.947167             40.783964      7    494  \n",
       "387511             -74.014866             40.692317      7    484  \n",
       "407313             -73.983799             40.726218     10    475  "
      ]
     },
     "metadata": {},
     "output_type": "display_data"
    }
   ],
   "source": [
    "ride_path_count_sub = subscriber_stations.groupby(by=['start station id','start station name','start station longitude','start station latitude','end station id','end station name','end station longitude','end station latitude', 'month']).size().reset_index(name='count').sort_values(by=['count'], ascending=False)\n",
    "display(ride_path_count_sub.head(10))"
   ]
  },
  {
   "cell_type": "markdown",
   "metadata": {},
   "source": [
    "#### Extracting Subscriber and Customer count and making it a feature."
   ]
  },
  {
   "cell_type": "code",
   "execution_count": 35,
   "metadata": {},
   "outputs": [
    {
     "data": {
      "text/html": [
       "<div>\n",
       "<style>\n",
       "    .dataframe thead tr:only-child th {\n",
       "        text-align: right;\n",
       "    }\n",
       "\n",
       "    .dataframe thead th {\n",
       "        text-align: left;\n",
       "    }\n",
       "\n",
       "    .dataframe tbody tr th {\n",
       "        vertical-align: top;\n",
       "    }\n",
       "</style>\n",
       "<table border=\"1\" class=\"dataframe\">\n",
       "  <thead>\n",
       "    <tr style=\"text-align: right;\">\n",
       "      <th></th>\n",
       "      <th>count</th>\n",
       "      <th>day</th>\n",
       "      <th>month</th>\n",
       "      <th>usertype</th>\n",
       "      <th>weekday</th>\n",
       "      <th>year</th>\n",
       "      <th>isWeekend</th>\n",
       "      <th>isHoliday</th>\n",
       "    </tr>\n",
       "  </thead>\n",
       "  <tbody>\n",
       "    <tr>\n",
       "      <th>0</th>\n",
       "      <td>1027</td>\n",
       "      <td>1</td>\n",
       "      <td>3</td>\n",
       "      <td>Customer</td>\n",
       "      <td>2</td>\n",
       "      <td>2017</td>\n",
       "      <td>False</td>\n",
       "      <td>False</td>\n",
       "    </tr>\n",
       "    <tr>\n",
       "      <th>1</th>\n",
       "      <td>39374</td>\n",
       "      <td>1</td>\n",
       "      <td>3</td>\n",
       "      <td>Subscriber</td>\n",
       "      <td>2</td>\n",
       "      <td>2017</td>\n",
       "      <td>False</td>\n",
       "      <td>False</td>\n",
       "    </tr>\n",
       "    <tr>\n",
       "      <th>2</th>\n",
       "      <td>9344</td>\n",
       "      <td>1</td>\n",
       "      <td>7</td>\n",
       "      <td>Customer</td>\n",
       "      <td>5</td>\n",
       "      <td>2017</td>\n",
       "      <td>True</td>\n",
       "      <td>False</td>\n",
       "    </tr>\n",
       "    <tr>\n",
       "      <th>3</th>\n",
       "      <td>27393</td>\n",
       "      <td>1</td>\n",
       "      <td>7</td>\n",
       "      <td>Subscriber</td>\n",
       "      <td>5</td>\n",
       "      <td>2017</td>\n",
       "      <td>True</td>\n",
       "      <td>False</td>\n",
       "    </tr>\n",
       "    <tr>\n",
       "      <th>4</th>\n",
       "      <td>10477</td>\n",
       "      <td>1</td>\n",
       "      <td>10</td>\n",
       "      <td>Customer</td>\n",
       "      <td>6</td>\n",
       "      <td>2017</td>\n",
       "      <td>True</td>\n",
       "      <td>False</td>\n",
       "    </tr>\n",
       "  </tbody>\n",
       "</table>\n",
       "</div>"
      ],
      "text/plain": [
       "   count  day  month    usertype  weekday  year  isWeekend  isHoliday\n",
       "0   1027    1      3    Customer        2  2017      False      False\n",
       "1  39374    1      3  Subscriber        2  2017      False      False\n",
       "2   9344    1      7    Customer        5  2017       True      False\n",
       "3  27393    1      7  Subscriber        5  2017       True      False\n",
       "4  10477    1     10    Customer        6  2017       True      False"
      ]
     },
     "execution_count": 35,
     "metadata": {},
     "output_type": "execute_result"
    }
   ],
   "source": [
    "ride_count.head()"
   ]
  },
  {
   "cell_type": "code",
   "execution_count": 36,
   "metadata": {},
   "outputs": [],
   "source": [
    "customer_count = ride_count.loc[ride_count['usertype']==\"Customer\"]['count']\n",
    "subscriber_count = ride_count.loc[ride_count['usertype']==\"Subscriber\"]['count']"
   ]
  },
  {
   "cell_type": "code",
   "execution_count": 37,
   "metadata": {},
   "outputs": [],
   "source": [
    "ride_count2 = ride_count.drop(['count', 'usertype'], axis=1).drop_duplicates()"
   ]
  },
  {
   "cell_type": "code",
   "execution_count": 38,
   "metadata": {},
   "outputs": [],
   "source": [
    "ride_count2['customer'] = list(customer_count)\n",
    "ride_count2['subscriber'] = list(subscriber_count)"
   ]
  },
  {
   "cell_type": "code",
   "execution_count": 39,
   "metadata": {
    "collapsed": true
   },
   "outputs": [],
   "source": [
    "if export:\n",
    "    ride_count2.to_csv(\"data/ride_count.csv\", index=False)\n",
    "    ride_path_count_cust.to_csv(\"data/ride_path_count_cust.csv\", index=False)\n",
    "    ride_path_count_sub.to_csv(\"data/ride_path_count_sub.csv\", index=False)\n",
    "    rush_hour.to_csv(\"data/rush_hour.csv\", index=False)"
   ]
  }
 ],
 "metadata": {
  "kernelspec": {
   "display_name": "Python 3",
   "language": "python",
   "name": "python3"
  },
  "language_info": {
   "codemirror_mode": {
    "name": "ipython",
    "version": 3
   },
   "file_extension": ".py",
   "mimetype": "text/x-python",
   "name": "python",
   "nbconvert_exporter": "python",
   "pygments_lexer": "ipython3",
   "version": "3.6.3"
  }
 },
 "nbformat": 4,
 "nbformat_minor": 2
}
