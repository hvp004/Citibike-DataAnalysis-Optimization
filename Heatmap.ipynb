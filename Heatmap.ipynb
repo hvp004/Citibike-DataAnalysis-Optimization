{
 "cells": [
  {
   "cell_type": "code",
   "execution_count": 1,
   "metadata": {
    "collapsed": true
   },
   "outputs": [],
   "source": [
    "import pandas as pd\n",
    "import numpy as np\n",
    "import matplotlib.pyplot as plt\n",
    "import seaborn as sns\n",
    "import datetime as dt\n",
    "from sklearn.preprocessing import StandardScaler\n",
    "pd.set_option('max_rows', 200)\n",
    "pd.set_option('max_columns', 200)\n",
    "sns.set_style('ticks')\n",
    "from gmplot import gmplot"
   ]
  },
  {
   "cell_type": "code",
   "execution_count": 2,
   "metadata": {
    "collapsed": true
   },
   "outputs": [],
   "source": [
    "data_july = pd.read_csv(\"201707/201707-citibike-tripdata.csv\")\n",
    "data_oct = pd.read_csv(\"201710/201710-citibike-tripdata.csv\")\n",
    "data_dec = pd.read_csv(\"201712/201712-citibike-tripdata.csv\")\n",
    "data_march = pd.read_csv(\"201703/201703-citibike-tripdata.csv\")\n",
    "data_march.columns=data_oct.columns\n",
    "data = pd.concat([data_march, data_july, data_oct, data_dec])\n",
    "data['hour'] = pd.to_datetime(data['starttime']).dt.hour\n",
    "data['day'] = pd.to_datetime(data['starttime']).dt.day\n",
    "data['month'] = pd.to_datetime(data['starttime']).dt.month\n",
    "data['weekday'] = pd.to_datetime(data['starttime']).dt.weekday"
   ]
  },
  {
   "cell_type": "code",
   "execution_count": 3,
   "metadata": {
    "collapsed": true
   },
   "outputs": [],
   "source": [
    "path = \"graphs/\""
   ]
  },
  {
   "cell_type": "code",
   "execution_count": 4,
   "metadata": {
    "collapsed": true
   },
   "outputs": [],
   "source": [
    "morning_rush_sub = [8,9]\n",
    "evening_rush_sub = [17,18]\n",
    "rush_hour_cust = [10,11,12,13,14,15,16,17,18,19]"
   ]
  },
  {
   "cell_type": "code",
   "execution_count": 5,
   "metadata": {
    "collapsed": true
   },
   "outputs": [],
   "source": [
    "def plot_heat_map(data, month, hours, usertype, weekdays, filename, isEnd=True):\n",
    "    gmap = gmplot.GoogleMapPlotter(40.750610,  -74.005242, 12)\n",
    "    gmap.marker(40.785091, -73.968285, title=\"Central Park\", color=\"#F4A460-C\")\n",
    "    gmap.marker(40.748817, -73.985428, title=\"Empire State Building\", color=\"#00BFFF-E\")\n",
    "    gmap.marker(40.7587, -73.9787, title=\"Rockefeller Center\", color=\"#00BFFF-R\")\n",
    "    gmap.marker(40.730824, -73.997330, title=\"Washington State Park\", color=\"#F4A460-W\")\n",
    "    gmap.marker(40.758896, -73.985130, title=\"Time Square\", color=\"#00BFFF-T\")\n",
    "    gmap.marker(40.7130543, -74.0041027, title=\"Brooklyn Bridge & Station\", color=\"#F4A460-B\")\n",
    "    gmap.marker(40.739863, -73.986273, title=\"Madison Square Park\", color=\"#00BFFF-M\")\n",
    "    gmap.marker(40.752726, -73.977229, title=\"Grand Central\", color=\"#00BFFF-G\")\n",
    "    \n",
    "    data_ = data.loc[(data['hour'].isin(hours)) & (data['usertype'] == usertype) & (data['month'] == month) & (data['weekday'].isin(weekdays))]\n",
    "    if isEnd:\n",
    "        df = data_.groupby(by=['end station latitude', 'end station longitude']).size().reset_index(name='count').sort_values(by=['count'], ascending=False).head(10)\n",
    "        print(df['count'].sum())\n",
    "        rel = data_.loc[(data_['end station latitude'].isin(list(df['end station latitude']))) & (data_['end station longitude'].isin(list(df['end station longitude'])))]\n",
    "        print(rel.shape)\n",
    "        \n",
    "        gmap.heatmap(rel['end station latitude'],rel['end station longitude'])\n",
    "        #Markers\n",
    "        \n",
    "        \n",
    "        gmap.draw(path+filename+\".html\")\n",
    "    else:\n",
    "        df = data_.groupby(by=['start station latitude', 'start station longitude']).size().reset_index(name='count').sort_values(by=['count'], ascending=False).head(10)\n",
    "        print(df['count'].sum())\n",
    "        rel = data_.loc[(data_['start station latitude'].isin(list(df['start station latitude']))) & (data_['end station longitude'].isin(list(df['end station longitude'])))]\n",
    "        print(rel.shape)\n",
    "        #gmap = gmplot.GoogleMapPlotter(40.750610,  -74.005242, 12)\n",
    "        gmap.heatmap(rel['start station latitude'],rel['start station longitude'])\n",
    "        gmap.draw(path+filename+\".html\")"
   ]
  },
  {
   "cell_type": "code",
   "execution_count": 6,
   "metadata": {},
   "outputs": [
    {
     "name": "stdout",
     "output_type": "stream",
     "text": [
      "9908\n",
      "(9908, 19)\n",
      "1321\n",
      "(1321, 19)\n"
     ]
    }
   ],
   "source": [
    "plot_heat_map(data, 3, morning_rush_sub, 'Subscriber', [1,2,3,4], \"march_morning_sub_end\")\n",
    "plot_heat_map(data, 3, rush_hour_cust, 'Customer', [5,6], \"march_cust_end\")"
   ]
  },
  {
   "cell_type": "code",
   "execution_count": 7,
   "metadata": {},
   "outputs": [
    {
     "name": "stdout",
     "output_type": "stream",
     "text": [
      "15295\n",
      "(15295, 19)\n",
      "17243\n",
      "(17243, 19)\n"
     ]
    }
   ],
   "source": [
    "plot_heat_map(data, 7, morning_rush_sub, 'Subscriber', [1,2,3,4], \"july_morning_sub_end\")\n",
    "plot_heat_map(data, 7, rush_hour_cust, 'Customer', [5,6], \"july_cust_end\")"
   ]
  },
  {
   "cell_type": "code",
   "execution_count": 8,
   "metadata": {},
   "outputs": [
    {
     "name": "stdout",
     "output_type": "stream",
     "text": [
      "21827\n",
      "(21827, 19)\n",
      "12145\n",
      "(12145, 19)\n"
     ]
    }
   ],
   "source": [
    "plot_heat_map(data, 10, morning_rush_sub, 'Subscriber', [1,2,3,4], \"oct_morning_sub_end\")\n",
    "plot_heat_map(data, 10, rush_hour_cust, 'Customer', [5,6], \"oct_cust_end\")"
   ]
  },
  {
   "cell_type": "code",
   "execution_count": 9,
   "metadata": {},
   "outputs": [
    {
     "name": "stdout",
     "output_type": "stream",
     "text": [
      "11131\n",
      "(11131, 19)\n",
      "1652\n",
      "(1652, 19)\n"
     ]
    }
   ],
   "source": [
    "plot_heat_map(data, 12, morning_rush_sub, 'Subscriber', [1,2,3,4], \"dec_morning_sub_end\")\n",
    "plot_heat_map(data, 12, rush_hour_cust, 'Customer', [5,6], \"dec_cust_end\")"
   ]
  },
  {
   "cell_type": "code",
   "execution_count": 10,
   "metadata": {},
   "outputs": [
    {
     "name": "stdout",
     "output_type": "stream",
     "text": [
      "9826\n",
      "(9826, 19)\n",
      "14202\n",
      "(14202, 19)\n",
      "17508\n",
      "(17508, 19)\n",
      "8431\n",
      "(8431, 19)\n"
     ]
    }
   ],
   "source": [
    "plot_heat_map(data, 3, evening_rush_sub, 'Subscriber', [1,2,3,4], \"march_evening_sub_end\")\n",
    "plot_heat_map(data, 7, evening_rush_sub, 'Subscriber', [1,2,3,4], \"july_evening_sub_end\")\n",
    "plot_heat_map(data, 10, evening_rush_sub, 'Subscriber', [1,2,3,4], \"oct_evening_sub_end\")\n",
    "plot_heat_map(data, 12, evening_rush_sub, 'Subscriber', [1,2,3,4], \"dec_evening_sub_end\")"
   ]
  }
 ],
 "metadata": {
  "kernelspec": {
   "display_name": "Python 3",
   "language": "python",
   "name": "python3"
  },
  "language_info": {
   "codemirror_mode": {
    "name": "ipython",
    "version": 3
   },
   "file_extension": ".py",
   "mimetype": "text/x-python",
   "name": "python",
   "nbconvert_exporter": "python",
   "pygments_lexer": "ipython3",
   "version": "3.6.3"
  }
 },
 "nbformat": 4,
 "nbformat_minor": 2
}
